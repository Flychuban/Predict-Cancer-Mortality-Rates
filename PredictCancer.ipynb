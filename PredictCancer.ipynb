{
  "nbformat": 4,
  "nbformat_minor": 0,
  "metadata": {
    "colab": {
      "provenance": [],
      "mount_file_id": "1_HR8BS0O5oe2GEYLQsHE4I2WCQOnssFA",
      "authorship_tag": "ABX9TyNeroeZcAeqYa4BTj0VLQPo",
      "include_colab_link": true
    },
    "kernelspec": {
      "name": "python3",
      "display_name": "Python 3"
    },
    "language_info": {
      "name": "python"
    }
  },
  "cells": [
    {
      "cell_type": "markdown",
      "metadata": {
        "id": "view-in-github",
        "colab_type": "text"
      },
      "source": [
        "<a href=\"https://colab.research.google.com/github/Flychuban/Predict-Cancer-Mortality-Rates/blob/main/PredictCancer.ipynb\" target=\"_parent\"><img src=\"https://colab.research.google.com/assets/colab-badge.svg\" alt=\"Open In Colab\"/></a>"
      ]
    },
    {
      "cell_type": "code",
      "execution_count": 1,
      "metadata": {
        "id": "rT8-Pb6jz4NH"
      },
      "outputs": [],
      "source": [
        "from matplotlib import pyplot as plt\n",
        "import pandas as pd\n",
        "import numpy as np"
      ]
    },
    {
      "cell_type": "code",
      "source": [
        "df = pd.read_csv(\"/content/drive/MyDrive/CancerMortalityRatesPredict/data/cancer_reg.csv\")"
      ],
      "metadata": {
        "id": "ru5qNuIQ0j3Z"
      },
      "execution_count": 2,
      "outputs": []
    },
    {
      "cell_type": "code",
      "source": [
        "def find_constant_columns(dataframe):\n",
        "    \"\"\"\n",
        "    This function takes in a dataframe and returns the columns that contain a single value.\n",
        "\n",
        "    Parameters:\n",
        "    dataframe (pandas.DataFrame): The dataframe to be analyzed\n",
        "\n",
        "    Returns:\n",
        "    list: A list of columns that contain a single value\n",
        "    \"\"\"\n",
        "    constant_columns = []\n",
        "    for column in dataframe.columns:\n",
        "        # Get unique values in the column\n",
        "        unique_values = dataframe[column].unique()\n",
        "        # check if the column contains only one unique value\n",
        "        if len(unique_values) == 1:\n",
        "            constant_columns.append(column)\n",
        "    return constant_columns"
      ],
      "metadata": {
        "id": "PxO48mgy6tFG"
      },
      "execution_count": 3,
      "outputs": []
    },
    {
      "cell_type": "code",
      "source": [
        "def delete_constant_columns(dataframe, columns_to_delete):\n",
        "    \"\"\"\n",
        "    This function takes in a dataframe and a list of columns to delete and deletes the columns that contain a single value.\n",
        "\n",
        "    Parameters:\n",
        "    dataframe (pandas.DataFrame): The dataframe to be analyzed\n",
        "    columns_to_delete (list): A list of columns to delete\n",
        "\n",
        "    Returns:\n",
        "    pandas.DataFrame: The dataframe with columns that contain a single value deleted\n",
        "    \"\"\"\n",
        "    # Delete the specified columns\n",
        "    dataframe = dataframe.drop(columns_to_delete, axis=1)\n",
        "    return dataframe"
      ],
      "metadata": {
        "id": "3WcAGT8v7ZVW"
      },
      "execution_count": 4,
      "outputs": []
    },
    {
      "cell_type": "code",
      "source": [
        "def find_columns_with_few_values(dataframe, threshold):\n",
        "    \"\"\"\n",
        "    This function takes in a dataframe and a threshold value as input and returns the columns that have less than the threshold number of unique values.\n",
        "\n",
        "    Parameters:\n",
        "    dataframe (pandas.DataFrame): The dataframe to be analyzed\n",
        "    threshold (int): The minimum number of unique values required for a column\n",
        "\n",
        "    Returns:\n",
        "    list: A list of columns that have less than the threshold number of unique values\n",
        "    \"\"\"\n",
        "    few_values_columns = []\n",
        "    for column in dataframe.columns:\n",
        "        # Get the number of unique values in the column\n",
        "        unique_values_count = len(dataframe[column].unique())\n",
        "        # Check if the column has less than the threshold number of unique values\n",
        "        if unique_values_count < threshold:\n",
        "            few_values_columns.append(column)\n",
        "    return few_values_columns"
      ],
      "metadata": {
        "id": "xnepg3-i7qGc"
      },
      "execution_count": 5,
      "outputs": []
    },
    {
      "cell_type": "code",
      "source": [
        "def find_duplicate_rows(dataframe):\n",
        "    \"\"\"\n",
        "    This function takes in a dataframe as input and returns the rows that contain duplicate data.\n",
        "\n",
        "    Parameters:\n",
        "    dataframe (pandas.DataFrame): The dataframe to be analyzed\n",
        "\n",
        "    Returns:\n",
        "    pandas.DataFrame: The dataframe containing duplicate rows\n",
        "    \"\"\"\n",
        "    # Identify duplicate rows\n",
        "    duplicate_rows = dataframe[dataframe.duplicated()]\n",
        "    return duplicate_rows"
      ],
      "metadata": {
        "id": "1F-0aVLT8Uwk"
      },
      "execution_count": 6,
      "outputs": []
    },
    {
      "cell_type": "code",
      "source": [
        "def delete_duplicate_rows(dataframe):\n",
        "    \"\"\"\n",
        "    This function takes in a dataframe as input and deletes the rows that contain duplicate data.\n",
        "\n",
        "    Parameters:\n",
        "    dataframe (pandas.DataFrame): The dataframe to be analyzed\n",
        "\n",
        "    Returns:\n",
        "    pandas.DataFrame: The dataframe without duplicate rows\n",
        "    \"\"\"\n",
        "    # Drop duplicate rows\n",
        "    dataframe = dataframe.drop_duplicates(keep=\"first\")\n",
        "    return dataframe"
      ],
      "metadata": {
        "id": "pYALqDKI8Vg-"
      },
      "execution_count": 7,
      "outputs": []
    },
    {
      "cell_type": "code",
      "source": [
        "def drop_and_fill(dataframe):\n",
        "    # Get the columns with more than 50% missing values\n",
        "    cols_to_drop = dataframe.columns[dataframe.isnull().mean() > 0.5]\n",
        "    # Drop the columns\n",
        "    dataframe = dataframe.drop(cols_to_drop, axis=1)\n",
        "    # Fill the remaining missing values with the mean of the column\n",
        "    dataframe = dataframe.fillna(dataframe.mean())\n",
        "    return dataframe"
      ],
      "metadata": {
        "id": "vuNeGEpW8oOV"
      },
      "execution_count": 8,
      "outputs": []
    },
    {
      "cell_type": "code",
      "source": [
        "def split_data(dataframe, target_column):\n",
        "    \"\"\"\n",
        "    This function takes in a dataframe and a target column as input and splits the dataframe into a feature dataframe and a target dataframe.\n",
        "\n",
        "    Parameters:\n",
        "    dataframe (pandas.DataFrame): The dataframe to be analyzed\n",
        "    target_column (str): The name of the target column\n",
        "\n",
        "    Returns:\n",
        "    pandas.DataFrame: The dataframe containing the features\n",
        "    pandas.DataFrame: The dataframe containing the target column\n",
        "    \"\"\"\n",
        "    # Split the dataframe into a feature dataframe and a target dataframe\n",
        "    X = dataframe.drop(target_column, axis=1)\n",
        "    y = dataframe[target_column]\n",
        "    X_train, X_test, y_train, y_test = tts(X, y, test_size=0.2, random_state=0)\n",
        "    return (X_train, X_test, y_train, y_test)"
      ],
      "metadata": {
        "id": "rLhSBLcR9Dto"
      },
      "execution_count": 9,
      "outputs": []
    },
    {
      "cell_type": "code",
      "source": [],
      "metadata": {
        "id": "b51gFdj19vWA"
      },
      "execution_count": null,
      "outputs": []
    }
  ]
}